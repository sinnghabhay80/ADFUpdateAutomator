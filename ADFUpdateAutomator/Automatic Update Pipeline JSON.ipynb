{
 "cells": [
  {
   "cell_type": "code",
   "execution_count": 0,
   "metadata": {
    "application/vnd.databricks.v1+cell": {
     "cellMetadata": {
      "byteLimit": 2048000,
      "rowLimit": 10000
     },
     "inputWidgets": {},
     "nuid": "d7be5c1d-c6d8-47bf-a152-6e1c68a72883",
     "showTitle": true,
     "tableResultSettingsMap": {},
     "title": "Initializing Widgets"
    }
   },
   "outputs": [],
   "source": [
    "dbutils.widgets.dropdown(\"JAR Module\", \"NA\" ,[\"NA\", \"ingestion\", \"aggregation\"])\n",
    "dbutils.widgets.text(\"PAT\", \"\")\n",
    "dbutils.widgets.text(\"Pipeline Name\", \"\")\n",
    "dbutils.widgets.text(\"Activity Name\", \"\")\n",
    "dbutils.widgets.text(\"Branch Name\", \"\")\n",
    "dbutils.widgets.dropdown(\"Update Mode\", \"JAR and Check LS\", [\"JAR Only\", \"JAR and Check LS\", \"LS Only\", \"JAR and LS\"])\n",
    "dbutils.widgets.dropdown(\"Linked Service Runtime[To Check]\", \"13.3\" ,[\"13.3\", \"14.3\"])\n",
    "dbutils.widgets.text(\"New Linked Service\", \"\")\n",
    "dbutils.widgets.text(\"Annotation\", \"\")"
   ]
  },
  {
   "cell_type": "code",
   "execution_count": 0,
   "metadata": {
    "application/vnd.databricks.v1+cell": {
     "cellMetadata": {
      "byteLimit": 2048000,
      "rowLimit": 10000
     },
     "inputWidgets": {},
     "nuid": "720dea1b-a72e-4218-9e74-be53bcecf027",
     "showTitle": true,
     "tableResultSettingsMap": {},
     "title": "Defining Class and Methods"
    }
   },
   "outputs": [],
   "source": [
    "import requests\n",
    "from requests.auth import HTTPBasicAuth\n",
    "import json\n",
    "import re\n",
    "import hashlib\n",
    "\n",
    "# AuthenticationHandler handles authentication and base URL setup\n",
    "class AuthenticationHandler:\n",
    "    def __init__(self, pat, organization, project_name, repo_name, feed_name):\n",
    "        self.pat = pat\n",
    "        self.organization = organization\n",
    "        self.project_name = project_name\n",
    "        self.repo_name = repo_name\n",
    "        self.feed_name = feed_name\n",
    "        self.base_url = f'https://dev.azure.com/{self.organization}/{self.project_name}/_apis/git/repositories/{self.repo_name}'\n",
    "        self.feeds_base_url = f'https://feeds.dev.azure.com/{self.organization}/{self.project_name}/_apis/packaging/feeds/{self.feed_name}'\n",
    "    \n",
    "    def get_auth(self):\n",
    "        return HTTPBasicAuth('', self.pat)\n",
    "\n",
    "\n",
    "# PackageManager handles fetching package details, versions, and jar files\n",
    "class PackageManager:\n",
    "    def __init__(self, auth_handler, module):\n",
    "        self.auth_handler = auth_handler\n",
    "        self.module = module\n",
    "    \n",
    "    def get_package_id(self):\n",
    "        url = f'{self.auth_handler.feeds_base_url}/packages'\n",
    "        response = requests.get(url, auth=self.auth_handler.get_auth())\n",
    "        if response.status_code == 200:\n",
    "            packages = response.json()['value']\n",
    "            for package_info in packages:\n",
    "                if package_info['normalizedName'] == f'com.organization.platform.{self.module}:dp-{self.module}':\n",
    "                    return package_info['id']\n",
    "        else:\n",
    "            print(f\"Failed to get the package ID: {response.status_code}\")\n",
    "            print(response.text)\n",
    "    \n",
    "    def get_latest_version(self, regex_pattern, include_all_versions, package_id):\n",
    "        url = f'{self.auth_handler.feeds_base_url}/packages/{package_id}?includeAllVersions={include_all_versions}&api-version=7.1-preview.1'\n",
    "        response = requests.get(url, auth=self.auth_handler.get_auth())\n",
    "        if response.status_code == 200:\n",
    "            versions = response.json()['versions']\n",
    "            matching_jars = [{'version': ver['normalizedVersion'], 'id': ver['id']} for ver in versions if re.match(regex_pattern, ver['normalizedVersion'])]\n",
    "            if matching_jars:\n",
    "                return max(matching_jars, key=lambda x: x['version'])\n",
    "            else:\n",
    "                print(f\"No package found matching the regex pattern '{regex_pattern}' in feed '{self.auth_handler.feed_name}'.\")\n",
    "        else:\n",
    "            print(f\"Failed to list package versions: {response.status_code}\")\n",
    "            print(response.json())\n",
    "\n",
    "    def get_jar_filename(self, regex_pattern):\n",
    "        package_id = self.get_package_id()\n",
    "        include_all_versions = True\n",
    "        version_info = self.get_latest_version(regex_pattern, include_all_versions, package_id)\n",
    "        if version_info:\n",
    "            list_files_url = f'{self.auth_handler.feeds_base_url}/packages/{package_id}/versions/{version_info[\"id\"]}?api-version=7.1-preview.1'\n",
    "            file_name_regex = fr'.*\\b({version_info[\"version\"]}\\.jar)\\b$'\n",
    "            response = requests.get(list_files_url, auth=self.auth_handler.get_auth())\n",
    "            if response.status_code == 200:\n",
    "                try:\n",
    "                    files = response.json()['files']\n",
    "                    for file in files:\n",
    "                        if re.match(file_name_regex, file['name']):\n",
    "                            return file['name']\n",
    "                except ValueError as e:\n",
    "                    print(\"Error decoding JSON response:\", e)\n",
    "                    print(\"Response content:\", response.text)\n",
    "            else:\n",
    "                print(f\"Failed to list files for version {version_info['version']}: {response.status_code}\")\n",
    "                print(\"Response content:\", response.text)\n",
    "        else:\n",
    "            print(f\"No matching JAR found.\")\n",
    "        return None\n",
    "\n",
    "\n",
    "# PipelineManager manages fetching, updating, and pushing pipeline JSON files\n",
    "class PipelineManager:\n",
    "    def __init__(self, auth_handler, pipeline_name):\n",
    "        self.auth_handler = auth_handler\n",
    "        self.pipeline_name = pipeline_name\n",
    "\n",
    "    def fetch_pipeline(self, branch):\n",
    "        pipeline_path = f'/pipeline/{self.pipeline_name}.json'\n",
    "        url = f'{self.auth_handler.base_url}/items?path={pipeline_path}&versionDescriptor.version={branch}&api-version=7.1-preview.1'\n",
    "        return requests.get(url, auth=self.auth_handler.get_auth())\n",
    "\n",
    "    def update_pipeline(self, activity_name, update_mode, ls_runtime, new_ls, annotation, replacement_string, utilities):\n",
    "        branches = [utilities.new_branch_name, utilities.base_branch_name]\n",
    "        pipeline_content = None\n",
    "\n",
    "        for branch in branches:\n",
    "            response = self.fetch_pipeline(branch)\n",
    "            if response.status_code == 200:\n",
    "                pipeline_content = response.json()\n",
    "                break\n",
    "            elif response.status_code == 401:\n",
    "                raise Exception(f\"Error Code: {response.status_code}, Please check Personal Access Token [Expired OR Incorrect]!!\")\n",
    "\n",
    "        if not pipeline_content:\n",
    "            return None\n",
    "\n",
    "        original_hash = utilities.calculate_hash(pipeline_content)\n",
    "        regex_jar = fr'\\b(org-{utilities.module}-)\\b.*\\b(\\.jar)\\b'\n",
    "\n",
    "        for data in pipeline_content['properties']['activities']:\n",
    "            if data['name'] == activity_name:\n",
    "                if update_mode in [0, 2, 3]:\n",
    "                    if update_mode != 2:\n",
    "                        data['typeProperties'] = utilities.update_json(data['typeProperties'], regex_jar, replacement_string, 'jar')\n",
    "                    if update_mode in [2, 3]:\n",
    "                        if not utilities.check_pattern(data['linkedServiceName']['referenceName'], new_ls) and utilities.check_new_ls(self.auth_handler, new_ls):\n",
    "                            data['linkedServiceName'] = utilities.update_json(data['linkedServiceName'], data['linkedServiceName']['referenceName'], new_ls, 'referenceName')\n",
    "                        elif not utilities.check_new_ls(self.auth_handler, new_ls):\n",
    "                            raise Exception(f\"Provided New LS {new_ls} does not Exist! Please Verify the name and try again.\")\n",
    "                        else:\n",
    "                            print(\"Pipeline contains the input/new LS already.\")\n",
    "                elif update_mode == 1:\n",
    "                    if not utilities.check_pattern(data['linkedServiceName']['referenceName'], ls_runtime):\n",
    "                        raise Exception(f\"Current LS {data['linkedServiceName']['referenceName']} is not of runtime {ls_runtime}!!\")\n",
    "                    data['typeProperties'] = utilities.update_json(data['typeProperties'], regex_jar, replacement_string, 'jar')\n",
    "                    print(f\"Current LS {data['linkedServiceName']['referenceName']} is of runtime {ls_runtime}.\")\n",
    "                elif update_mode == -1:\n",
    "                    raise Exception(f\"Invalid Value received for {update_mode}!\")\n",
    "\n",
    "        new_hash = utilities.calculate_hash(pipeline_content)\n",
    "        if original_hash == new_hash:\n",
    "            raise Exception(\"No Changes detected! Either the pipeline already contains the latest JAR or the provided module/LS is unchanged.\")\n",
    "\n",
    "        if annotation and annotation not in pipeline_content['properties']['annotations']:\n",
    "            pipeline_content['properties']['annotations'].append(annotation)\n",
    "\n",
    "        return json.dumps(pipeline_content, indent=4)\n",
    "\n",
    "    def push_updated_file(self, updated_content, new_branch_name):\n",
    "        get_commits_url = f'{self.auth_handler.base_url}/commits?searchCriteria.itemVersion.version={new_branch_name}&$top=1&api-version=7.1-preview.1'\n",
    "        response = requests.get(get_commits_url, auth=self.auth_handler.get_auth())\n",
    "        if response.status_code == 200:\n",
    "            commit_id = response.json()['value'][0]['commitId']\n",
    "            update_file_url = f'{self.auth_handler.base_url}/pushes?api-version=7.1-preview.2'\n",
    "            payload = {\n",
    "                \"refUpdates\": [{\"name\": f\"refs/heads/{new_branch_name}\", \"oldObjectId\": commit_id}],\n",
    "                \"commits\": [{\n",
    "                    \"comment\": f\"Update '/pipeline/{self.pipeline_name}.json'\",\n",
    "                    \"changes\": [{\"changeType\": \"edit\", \"item\": {\"path\": f'/pipeline/{self.pipeline_name}.json'}, \"newContent\": {\"content\": updated_content, \"contentType\": \"rawtext\"}}]\n",
    "                }]\n",
    "            }\n",
    "            headers = {'Content-Type': 'application/json'}\n",
    "            response = requests.post(update_file_url, auth=self.auth_handler.get_auth(), headers=headers, json=payload)\n",
    "            if response.status_code in [200, 201]:\n",
    "                print(\"File updated successfully.\")\n",
    "                return True\n",
    "            else:\n",
    "                print(f\"Failed to update file: {response.status_code}\")\n",
    "                print(\"Response content:\", response.text)\n",
    "                return False\n",
    "        else:\n",
    "            print(f\"Failed to get the latest commit from branch '{new_branch_name}': {response.status_code}\")\n",
    "            print(\"Response content:\", response.text)\n",
    "            return False\n",
    "\n",
    "\n",
    "# BranchManager handles branch creation and pull request management\n",
    "class BranchManager:\n",
    "    def __init__(self, auth_handler, base_branch_name, new_branch_name):\n",
    "        self.auth_handler = auth_handler\n",
    "        self.base_branch_name = base_branch_name\n",
    "        self.new_branch_name = new_branch_name\n",
    "\n",
    "    def create_branch(self):\n",
    "        get_commits_url = f'{self.auth_handler.base_url}/commits?searchCriteria.itemVersion.version={self.base_branch_name}&$top=1&api-version=7.1-preview.1'\n",
    "        response = requests.get(get_commits_url, auth=self.auth_handler.get_auth())\n",
    "        if response.status_code == 200:\n",
    "            commit_id = response.json()['value'][0]['commitId']\n",
    "            create_branch_url = f'{self.auth_handler.base_url}/refs?api-version=7.1-preview.1'\n",
    "            headers = {'Content-Type': 'application/json'}\n",
    "            payload = [{\n",
    "                \"name\": f\"refs/heads/{self.new_branch_name}\",\n",
    "                \"oldObjectId\": \"0000000000000000000000000000000000000000\",  # Required to create a new branch\n",
    "                \"newObjectId\": commit_id,\n",
    "            }]\n",
    "            response = requests.post(create_branch_url, auth=self.auth_handler.get_auth(), headers=headers, json=payload)\n",
    "            if response.status_code in [200, 201]:\n",
    "                print(f\"Branch '{self.new_branch_name}' created successfully.\")\n",
    "                return True\n",
    "            else:\n",
    "                print(f\"Failed to create branch '{self.new_branch_name}': {response.status_code}\")\n",
    "                print(\"Response content:\", response.text)\n",
    "                return False\n",
    "        else:\n",
    "            print(f\"Failed to get the latest commit from branch '{self.base_branch_name}': {response.status_code}\")\n",
    "            print(\"Response content:\", response.text)\n",
    "            return False\n",
    "\n",
    "    def create_pull_request(self, pr_title, pr_description, reviewers):\n",
    "        pr_list_url = f'{self.auth_handler.base_url}/pullrequests?searchCriteria.sourceRefName=refs/heads/{self.new_branch_name}&searchCriteria.targetRefName=refs/heads/{self.base_branch_name}&api-version=7.1-preview.1'\n",
    "        headers = {'Content-Type': 'application/json'}\n",
    "\n",
    "        # Checking for existing PRs\n",
    "        response = requests.get(pr_list_url, auth=self.auth_handler.get_auth(), headers=headers)\n",
    "        if response.status_code == 200:\n",
    "            pr_list = response.json().get('value', [])\n",
    "            if pr_list:\n",
    "                # If there's an existing PR, getting its URL\n",
    "                existing_pr = pr_list[0]  # Taking the first match found\n",
    "                pr_id = existing_pr['pullRequestId']\n",
    "                pr_web_url = (f'https://dev.azure.com/{self.auth_handler.organization}/{self.auth_handler.project_name}/_git/{self.auth_handler.repo_name}/pullrequest/{pr_id}').replace(\" \", \"%20\")\n",
    "                print(f\"PR already exists: {pr_web_url}\")\n",
    "                return pr_web_url\n",
    "\n",
    "        # If no existing PR is found, creating a new one\n",
    "        pr_url = f'{self.auth_handler.base_url}/pullrequests?api-version=7.1-preview.1'\n",
    "        pr_payload = {\n",
    "            \"sourceRefName\": f\"refs/heads/{self.new_branch_name}\",\n",
    "            \"targetRefName\": f\"refs/heads/{self.base_branch_name}\",\n",
    "            \"title\": pr_title,\n",
    "            \"description\": pr_description,\n",
    "            \"reviewers\": [{\"id\": reviewer} for reviewer in reviewers]\n",
    "        }\n",
    "        response = requests.post(pr_url, auth=self.auth_handler.get_auth(), headers=headers, json=pr_payload)\n",
    "        if response.status_code == 201:\n",
    "            print(\"Pull Request created successfully.\")\n",
    "            pr_data = response.json()\n",
    "            pr_id = pr_data['pullRequestId']\n",
    "            pr_web_url = (f'https://dev.azure.com/{self.auth_handler.organization}/{self.auth_handler.project_name}/_git/{self.auth_handler.repo_name}/pullrequest/{pr_id}').replace(\" \", \"%20\")\n",
    "            print(f\"PR URL: {pr_web_url}\")\n",
    "            return pr_web_url\n",
    "        else:\n",
    "            print(f\"Failed to create Pull Request: {response.status_code}\")\n",
    "            print(\"Response content:\", response.text)\n",
    "            return None\n",
    "\n",
    "\n",
    "# Utilities contains utility functions for JSON handling, hashing, etc.\n",
    "class Utilities:\n",
    "    def __init__(self, new_branch_name, base_branch_name, module):\n",
    "        self.new_branch_name = new_branch_name\n",
    "        self.base_branch_name = base_branch_name\n",
    "        self.module = module\n",
    "\n",
    "    def calculate_hash(self, content):\n",
    "        content_str = json.dumps(content, sort_keys=True)\n",
    "        return hashlib.md5(content_str.encode('utf-8')).hexdigest()\n",
    "\n",
    "    def check_pattern(self, data, pattern):\n",
    "        return re.search(re.escape(pattern), data)\n",
    "\n",
    "    def replace_pattern(self, text, pattern, replacement):\n",
    "        return re.sub(pattern, replacement, text)\n",
    "\n",
    "    def update_json(self, data, pattern, replacement, key=\"\"):\n",
    "        if isinstance(data, dict):\n",
    "            return {k: self.update_json(v, pattern, replacement, key) for k, v in data.items()}\n",
    "        elif isinstance(data, list):\n",
    "            return [self.update_json(item, pattern, replacement, key) for item in data]\n",
    "        elif isinstance(data, str):\n",
    "            return self.replace_pattern(data, pattern, replacement)\n",
    "        else:\n",
    "            return data\n",
    "\n",
    "    def check_new_ls(self, auth_handler, new_ls):\n",
    "        ls_path = f'/linkedService/{new_ls}.json'\n",
    "        url = f'{auth_handler.base_url}/items?path={ls_path}&api-version=7.1-preview.1'\n",
    "        response = requests.get(url, auth=auth_handler.get_auth())\n",
    "        if response.status_code == 200:\n",
    "            return True\n",
    "        elif response.status_code == 404:\n",
    "            return False\n",
    "        else:\n",
    "            print(f\"Failed to check the file: {response.status_code}\")\n",
    "            print(\"Response content:\", response.text)\n",
    "            return False\n",
    "\n",
    "\n",
    "# The orchestrator class brings everything together\n",
    "class UpdatePipelineJarADF:\n",
    "    def __init__(self, pat, pipeline_name, activity_name, module, new_branch_name, update_mode, ls_runtime, new_ls, annotation, organization='COSMOS-Sephora-Shared', project_name='Getting Started', repo_name='adf-resources', feed_name='sephora-dp', base_branch_name='master'):\n",
    "        self.auth_handler = AuthenticationHandler(pat, organization, project_name, repo_name, feed_name)\n",
    "        self.package_manager = PackageManager(self.auth_handler, module)\n",
    "        self.pipeline_manager = PipelineManager(self.auth_handler, pipeline_name)\n",
    "        self.branch_manager = BranchManager(self.auth_handler, base_branch_name, new_branch_name)\n",
    "        self.utilities = Utilities(new_branch_name, base_branch_name, module)\n",
    "        self.activity_name = activity_name\n",
    "        self.update_mode = update_mode\n",
    "        self.ls_runtime = ls_runtime\n",
    "        self.new_ls = new_ls\n",
    "        self.annotation = annotation\n",
    "\n",
    "    def execute(self):\n",
    "        regex_pattern = r'.*\\b(master)\\b$'\n",
    "        jar_filename = self.package_manager.get_jar_filename(regex_pattern)\n",
    "        if jar_filename:\n",
    "            updated_content = self.pipeline_manager.update_pipeline(self.activity_name, self.update_mode, self.ls_runtime, self.new_ls, self.annotation, jar_filename, self.utilities)\n",
    "            if updated_content:\n",
    "                if self.branch_manager.create_branch():\n",
    "                    self.pipeline_manager.push_updated_file(updated_content, self.utilities.new_branch_name)\n",
    "                    self.branch_manager.create_pull_request(f'Merge {self.utilities.new_branch_name} to master', f'Merge {self.utilities.new_branch_name} to master', [])"
   ]
  },
  {
   "cell_type": "code",
   "execution_count": 0,
   "metadata": {
    "application/vnd.databricks.v1+cell": {
     "cellMetadata": {
      "byteLimit": 2048000,
      "rowLimit": 10000
     },
     "inputWidgets": {},
     "nuid": "30accd18-797c-4fbf-9ee3-0dbd36de14fa",
     "showTitle": true,
     "tableResultSettingsMap": {},
     "title": "Usage/ Implementation"
    }
   },
   "outputs": [],
   "source": [
    "def main():\n",
    "    pat = dbutils.widgets.get(\"PAT\")\n",
    "    module = dbutils.widgets.get(\"JAR Module\")\n",
    "    pipeline_name = dbutils.widgets.get(\"Pipeline Name\")\n",
    "    new_branch_name = dbutils.widgets.get(\"Branch Name\")\n",
    "    activity_name = dbutils.widgets.get(\"Activity Name\")\n",
    "    \n",
    "    update_mode = 0 if dbutils.widgets.get(\"Update Mode\") == \"JAR Only\" else 1 if dbutils.widgets.get(\"Update Mode\") == \"JAR and Check LS\" else 2 if dbutils.widgets.get(\"Update Mode\") == \"LS Only\" else 3 if dbutils.widgets.get(\"Update Mode\") == \"JAR and LS\" else -1\n",
    "    ls_runtime = \"13_3\" if dbutils.widgets.get(\"Linked Service Runtime[To Check]\") == \"13.3\" else \"14_3\" if dbutils.widgets.get(\"Linked Service Runtime[To Check]\") == \"14.3\" else None\n",
    "    new_ls = dbutils.widgets.get(\"New Linked Service\")\n",
    "    annotation = dbutils.widgets.get(\"Annotation\")\n",
    "\n",
    "    if module not in ('aggregation', 'ingestion'):\n",
    "        raise Exception('Invalid Module chosen! Please choose Aggregation OR Ingestion.')\n",
    "\n",
    "    updater = UpdatePipelineJarADF(pat=pat, pipeline_name=pipeline_name, activity_name=activity_name, module=module, new_branch_name=new_branch_name, update_mode=update_mode, ls_runtime=ls_runtime, new_ls=new_ls, annotation=annotation)\n",
    "    updater.execute()\n",
    "\n",
    "\n",
    "if __name__ == \"__main__\":\n",
    "    main()"
   ]
  }
 ],
 "metadata": {
  "application/vnd.databricks.v1+notebook": {
   "computePreferences": null,
   "dashboards": [],
   "environmentMetadata": null,
   "language": "python",
   "notebookMetadata": {
    "pythonIndentUnit": 2,
    "widgetLayout": [
     {
      "breakBefore": false,
      "name": "PAT",
      "width": 183
     },
     {
      "breakBefore": false,
      "name": "Update Mode",
      "width": 183
     },
     {
      "breakBefore": false,
      "name": "Branch Name",
      "width": 183
     },
     {
      "breakBefore": false,
      "name": "Pipeline Name",
      "width": 183
     },
     {
      "breakBefore": false,
      "name": "Activity Name",
      "width": 183
     },
     {
      "breakBefore": false,
      "name": "JAR Module",
      "width": 183
     },
     {
      "breakBefore": false,
      "name": "Linked Service Runtime[To Check]",
      "width": 183
     },
     {
      "breakBefore": false,
      "name": "New Linked Service",
      "width": 183
     },
     {
      "breakBefore": false,
      "name": "Annotation",
      "width": 183
     }
    ]
   },
   "notebookName": "Automatic Update Pipeline JSON",
   "widgets": {
    "Activity Name": {
     "currentValue": "ForterFraudStatus",
     "nuid": "b8d858df-443a-4990-b8b8-413ee6bc6271",
     "typedWidgetInfo": {
      "autoCreated": false,
      "defaultValue": "",
      "label": null,
      "name": "Activity Name",
      "options": {
       "validationRegex": null,
       "widgetDisplayType": "Text"
      },
      "parameterDataType": "String"
     },
     "widgetInfo": {
      "defaultValue": "",
      "label": null,
      "name": "Activity Name",
      "options": {
       "autoCreated": null,
       "validationRegex": null,
       "widgetType": "text"
      },
      "widgetType": "text"
     }
    },
    "Annotation": {
     "currentValue": "sprint_25_05",
     "nuid": "76bde60f-e7b9-4660-a175-c08038371848",
     "typedWidgetInfo": {
      "autoCreated": false,
      "defaultValue": "",
      "label": null,
      "name": "Annotation",
      "options": {
       "validationRegex": null,
       "widgetDisplayType": "Text"
      },
      "parameterDataType": "String"
     },
     "widgetInfo": {
      "defaultValue": "",
      "label": null,
      "name": "Annotation",
      "options": {
       "autoCreated": null,
       "validationRegex": null,
       "widgetType": "text"
      },
      "widgetType": "text"
     }
    },
    "Branch Name": {
     "currentValue": "DPSUP-2138",
     "nuid": "db595807-2101-465b-acbb-d6593f4f29b7",
     "typedWidgetInfo": {
      "autoCreated": false,
      "defaultValue": "",
      "label": null,
      "name": "Branch Name",
      "options": {
       "validationRegex": null,
       "widgetDisplayType": "Text"
      },
      "parameterDataType": "String"
     },
     "widgetInfo": {
      "defaultValue": "",
      "label": null,
      "name": "Branch Name",
      "options": {
       "autoCreated": null,
       "validationRegex": null,
       "widgetType": "text"
      },
      "widgetType": "text"
     }
    },
    "JAR Module": {
     "currentValue": "ingestion",
     "nuid": "6a6f242b-070a-4269-b838-06f7a984a199",
     "typedWidgetInfo": {
      "autoCreated": false,
      "defaultValue": "NA",
      "label": null,
      "name": "JAR Module",
      "options": {
       "choices": [
        "NA",
        "ingestion",
        "aggregation"
       ],
       "fixedDomain": true,
       "multiselect": false,
       "widgetDisplayType": "Dropdown"
      },
      "parameterDataType": "String"
     },
     "widgetInfo": {
      "defaultValue": "NA",
      "label": null,
      "name": "JAR Module",
      "options": {
       "autoCreated": null,
       "choices": [
        "NA",
        "ingestion",
        "aggregation"
       ],
       "widgetType": "dropdown"
      },
      "widgetType": "dropdown"
     }
    },
    "Linked Service Runtime[To Check]": {
     "currentValue": "13.3",
     "nuid": "44d2fc64-b8cf-4165-aa36-c97d68764e30",
     "typedWidgetInfo": {
      "autoCreated": false,
      "defaultValue": "13.3",
      "label": null,
      "name": "Linked Service Runtime[To Check]",
      "options": {
       "choices": [
        "13.3",
        "14.3"
       ],
       "fixedDomain": true,
       "multiselect": false,
       "widgetDisplayType": "Dropdown"
      },
      "parameterDataType": "String"
     },
     "widgetInfo": {
      "defaultValue": "13.3",
      "label": null,
      "name": "Linked Service Runtime[To Check]",
      "options": {
       "autoCreated": null,
       "choices": [
        "13.3",
        "14.3"
       ],
       "widgetType": "dropdown"
      },
      "widgetType": "dropdown"
     }
    },
    "New Linked Service": {
     "currentValue": "AzureDatabricks_13_3_mpcosmuse2sephptdedbx_MediumTagged",
     "nuid": "a28ac61e-111e-4bc2-bad6-4560d43951e1",
     "typedWidgetInfo": {
      "autoCreated": false,
      "defaultValue": "",
      "label": null,
      "name": "New Linked Service",
      "options": {
       "validationRegex": null,
       "widgetDisplayType": "Text"
      },
      "parameterDataType": "String"
     },
     "widgetInfo": {
      "defaultValue": "",
      "label": null,
      "name": "New Linked Service",
      "options": {
       "autoCreated": null,
       "validationRegex": null,
       "widgetType": "text"
      },
      "widgetType": "text"
     }
    },
    "PAT": {
     "currentValue": "9TnFMKXwjMJ5EDVqfPCaptlQzMw0lulXs3OLzTaUX5HVVSKmJXBTJQQJ99BAACAAAAAY9AwLAAASAZDOLSGl",
     "nuid": "8fc25e73-14b5-492a-95ae-f52ecfaf2469",
     "typedWidgetInfo": {
      "autoCreated": false,
      "defaultValue": "",
      "label": null,
      "name": "PAT",
      "options": {
       "validationRegex": null,
       "widgetDisplayType": "Text"
      },
      "parameterDataType": "String"
     },
     "widgetInfo": {
      "defaultValue": "",
      "label": null,
      "name": "PAT",
      "options": {
       "autoCreated": null,
       "validationRegex": null,
       "widgetType": "text"
      },
      "widgetType": "text"
     }
    },
    "Pipeline Name": {
     "currentValue": "ForterFraudStatus",
     "nuid": "a535cde6-9ac9-40d8-9c30-a60a896212ac",
     "typedWidgetInfo": {
      "autoCreated": false,
      "defaultValue": "",
      "label": null,
      "name": "Pipeline Name",
      "options": {
       "validationRegex": null,
       "widgetDisplayType": "Text"
      },
      "parameterDataType": "String"
     },
     "widgetInfo": {
      "defaultValue": "",
      "label": null,
      "name": "Pipeline Name",
      "options": {
       "autoCreated": null,
       "validationRegex": null,
       "widgetType": "text"
      },
      "widgetType": "text"
     }
    },
    "Update Mode": {
     "currentValue": "JAR and LS",
     "nuid": "e4964c7a-71c9-47f9-bb20-b0e0fbf1b814",
     "typedWidgetInfo": {
      "autoCreated": false,
      "defaultValue": "JAR and Check LS",
      "label": null,
      "name": "Update Mode",
      "options": {
       "choices": [
        "JAR Only",
        "JAR and Check LS",
        "LS Only",
        "JAR and LS"
       ],
       "fixedDomain": true,
       "multiselect": false,
       "widgetDisplayType": "Dropdown"
      },
      "parameterDataType": "String"
     },
     "widgetInfo": {
      "defaultValue": "JAR and Check LS",
      "label": null,
      "name": "Update Mode",
      "options": {
       "autoCreated": null,
       "choices": [
        "JAR Only",
        "JAR and Check LS",
        "LS Only",
        "JAR and LS"
       ],
       "widgetType": "dropdown"
      },
      "widgetType": "dropdown"
     }
    }
   }
  },
  "language_info": {
   "name": "python"
  }
 },
 "nbformat": 4,
 "nbformat_minor": 0
}
